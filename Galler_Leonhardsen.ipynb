{
  "cells": [
    {
      "attachments": {},
      "cell_type": "markdown",
      "id": "71e8cba3",
      "metadata": {
        "id": "71e8cba3"
      },
      "source": [
        "# Optimizing Ski Students Pickup\n",
        "\n",
        "A ski school provides transportation to the ski resort for its students.\n",
        "\n",
        "The ski school has $k$ buses, each one having the capacity to transport at most $C$ students.\n",
        "Based on enrolments for the next winter, the school expects to pick up its students from $n$ neighbouring towns.\n",
        "Each town has $d_i$ students, and it must be visited exactly once by one of the $k$ buses.\n",
        "\n",
        "A bus visiting a town must pick up all of its students, and the total number of students picked up by each bus must not exceed its capacity.\n",
        "Lastly, it is mandatory that each bus starts and ends its route at the ski school.\n",
        "\n",
        "**Your goal is to develop a model to plan the pickup routes of the ski school with the goal of minimizing transportation costs.**\n"
      ]
    },
    {
      "attachments": {},
      "cell_type": "markdown",
      "id": "65d91fd2",
      "metadata": {
        "id": "65d91fd2"
      },
      "source": [
        "## Formulation\n",
        "\n",
        "### Sets\n",
        "\n",
        "- $V$: set of $n$ neighbouring towns to be visited.\n",
        "- $K$: set of $k$ available buses.\n",
        "\n",
        "### Parameters\n",
        "\n",
        "- $c_{ij}$: distance between towns $i \\in V$ and $j \\in V$,\n",
        "- $d_i$: number of students waiting at town $i \\in V$,\n",
        "- $C$: maximum number of students per bus.\n",
        "\n",
        "### Variables\n",
        "\n",
        "- $x_{ijk}$: binary variable whose value is $1$ if bus $k \\in K$ travels from town $i \\in V$ to $j \\in V$, 0 otherwise,\n",
        "- $y_{ik}$: binary variable whose value is 1 if bus $k \\in K$ visits town $i \\in V$.\n",
        "\n",
        "### Model\n",
        "\n",
        "$$\n",
        "\\begin{array}{lll}\n",
        "   \\min & \\sum_{i \\in V} \\sum_{j \\in V} c_{ij} \\sum_{k \\in K} x_{ijk}\\\\\n",
        "   \\textrm{s.t.} & \\sum_{k \\in K} y_{ik} = 1 & \\forall i \\in V \t\\setminus \\{0\\}\\\\\n",
        "                 & \\sum_{k \\in K} y_{0k} = K & \\\\\n",
        "                 & \\sum_{j \\in V} x_{ijk} = \\sum_{j \\in V} x_{jik} & \\forall i \\in V, k \\in K \\\\\n",
        "                 & \\sum_{j \\in V} x_{ijk} = y_{ik} & \\forall i \\in V, k \\in K \\\\\n",
        "                 & \\sum_{i \\in V} d_i y_{ik} \\le C & \\forall k \\in K \\\\\n",
        "                 & \\sum_{i \\in S} \\sum_{j \\in S} x_{ijk} \\le |S| - 1 & \\forall S \\subseteq V \t\\setminus \\{0\\}, |S| \\ge 1, k \\in K \\\\\n",
        "                 & y_{ik} \\in \\{0,1\\} & \\forall i \\in V, k \\in K \\\\\n",
        "                 & x_{ijk} \\in \\{0,1\\} & \\forall i \\in V, j \\in V, k \\in K\n",
        "\\end{array}\n",
        "$$\n"
      ]
    },
    {
      "cell_type": "code",
      "execution_count": 1,
      "id": "6ac6b084",
      "metadata": {
        "id": "6ac6b084"
      },
      "outputs": [
        {
          "name": "stdout",
          "output_type": "stream",
          "text": [
            "Requirement already satisfied: mip in /Users/erikskole/opt/anaconda3/envs/datasyn/lib/python3.6/site-packages (1.13.0)\n",
            "Requirement already satisfied: cffi in /Users/erikskole/opt/anaconda3/envs/datasyn/lib/python3.6/site-packages (from mip) (1.14.0)\n",
            "Requirement already satisfied: pycparser in /Users/erikskole/opt/anaconda3/envs/datasyn/lib/python3.6/site-packages (from cffi->mip) (2.20)\n",
            "Note: you may need to restart the kernel to use updated packages.\n"
          ]
        }
      ],
      "source": [
        "%pip install mip"
      ]
    },
    {
      "cell_type": "code",
      "execution_count": 2,
      "id": "KHtvHQ-_y99F",
      "metadata": {
        "id": "KHtvHQ-_y99F"
      },
      "outputs": [],
      "source": [
        "import numpy as np\n",
        "import math\n",
        "import networkx as nx\n",
        "from itertools import chain, combinations\n",
        "import mip\n",
        "\n",
        "\n",
        "n = 6   # number of towns\n",
        "k = 2   # number of buses\n",
        "C = 20  # max number of students per bus\n",
        "\n",
        "# number of students waiting in each town\n",
        "d = [2, 3, 7, 8, 8, 8]\n",
        "\n",
        "V = range(n)  # set of towns. The first town (index 0) contains the ski resort.\n",
        "V0 = V[1:]    # set of towns without the ski resort.\n",
        "K = range(k)  # set of buses.\n",
        "towns = [1,2,3,4,5,6]\n",
        "\n",
        "\n",
        "np.random.seed(12345)\n",
        "grid_size = 100\n",
        "point = grid_size * np.random.random((n,2))\n",
        "\n",
        "# distance between each pair of towns\n",
        "c = np.array([[math.sqrt(np.sum((point[i] - point[j])**2)) for i in V] for j in V])"
      ]
    },
    {
      "cell_type": "code",
      "execution_count": 3,
      "id": "F29pxMjAT7n5",
      "metadata": {
        "id": "F29pxMjAT7n5"
      },
      "outputs": [
        {
          "name": "stdout",
          "output_type": "stream",
          "text": [
            "{0: [0, 3, 5], 1: [0, 1, 2, 4]}\n",
            "{0: ['0 => 3', '3 => 5', '5 => 0'], 1: ['0 => 1', '1 => 2', '2 => 4', '4 => 0']}\n"
          ]
        }
      ],
      "source": [
        "import mip\n",
        "m = mip.Model()\n",
        "\n",
        "# Add variable x_ijk whose value is 1 if bus k travels from town i to j \n",
        "x = {}\n",
        "for i in range(n):\n",
        "  for j in range(n):\n",
        "    for k_i in range(k):\n",
        "      x[(i, j, k_i)] = m.add_var(var_type=mip.BINARY)\n",
        "\n",
        "# Add variable y_jk whose value is 1 if bus k visits town i\n",
        "y = {}\n",
        "for i in range(n):\n",
        "  for k_i in range(k):\n",
        "      y[(i, k_i)] = m.add_var(var_type=mip.BINARY)\n",
        "\n",
        "# Setup objective function to minimize\n",
        "m.objective = mip.minimize(mip.xsum(c[i, j] * x[(i, j, k_i)] for i in range(n) for j in range(n) for k_i in range(k)))\n",
        "\n",
        "# Constrain that each town has to be reached by only one of the busses\n",
        "for i in range(1, n):  \n",
        "  m.add_constr(mip.xsum(y[(i, k_i)] for k_i in range(k)) == 1)\n",
        "\n",
        "# Constrain that each buss has to start at the ski resort\n",
        "m.add_constr(mip.xsum(y[(0, k_i)] for k_i in range(k)) == k)\n",
        "\n",
        "# There should be the same number of busses going in one direction as in the other direction\n",
        "for i in range(n):\n",
        "  for k_i in range(k):\n",
        "    m.add_constr(mip.xsum(x[(i, j, k_i)] for j in range(n)) == mip.xsum(x[(j, i, k_i)] for j in range(n)))\n",
        "\n",
        "# A buss should travel to the city it visits\n",
        "for i in range(n):\n",
        "  for k_i in range(k):\n",
        "    m.add_constr(mip.xsum(x[(i, j, k_i)] for j in range(n)) == y[(i, k_i)])\n",
        "\n",
        "# A buss should not have more people aboard than its max capacity\n",
        "for k_i in range(k):\n",
        "  m.add_constr(mip.xsum(d[i]*y[(i, k_i)] for i in range(n)) <= C)\n",
        "\n",
        "# Check that there are no cycles, remove {0}\n",
        "max_subset = set(range(1, n))\n",
        "for S in chain.from_iterable(combinations(max_subset, r) for r in range(len(max_subset)+1)):\n",
        "  if len(S) >= 1:\n",
        "    for k_i in range(k):\n",
        "      m.add_constr(mip.xsum(x[(i, j, k_i)] for i in S for j in S) <= len(S)-1)\n",
        "\n",
        "m.optimize()\n",
        "\n",
        "buss_cities = {}\n",
        "for i in range(n):\n",
        "  for k_i in range(k):\n",
        "    if y[(i, k_i)].x:\n",
        "      if k_i not in buss_cities:\n",
        "        buss_cities[k_i] = []\n",
        "      buss_cities[k_i].append(i)\n",
        "print(buss_cities)\n",
        "\n",
        "buss_routes = {}\n",
        "for k_i in range(k):\n",
        "  buss_routes[k_i] = []\n",
        "  finished = False\n",
        "  i = 0\n",
        "  while(not finished):\n",
        "    for j in range(n):\n",
        "      if x[(i, j, k_i)].x:\n",
        "        buss_routes[k_i].append(f'{i} => {j}')\n",
        "        i = j\n",
        "        if j == 0:\n",
        "          finished = True\n",
        "        break\n",
        "print(buss_routes)\n"
      ]
    }
  ],
  "metadata": {
    "colab": {
      "provenance": []
    },
    "kernelspec": {
      "display_name": "Python 3 (ipykernel)",
      "language": "python",
      "name": "python3"
    },
    "language_info": {
      "codemirror_mode": {
        "name": "ipython",
        "version": 3
      },
      "file_extension": ".py",
      "mimetype": "text/x-python",
      "name": "python",
      "nbconvert_exporter": "python",
      "pygments_lexer": "ipython3",
      "version": "3.6.10"
    }
  },
  "nbformat": 4,
  "nbformat_minor": 5
}
